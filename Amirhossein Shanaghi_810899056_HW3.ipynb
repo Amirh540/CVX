{
  "cells": [
    {
      "cell_type": "markdown",
      "metadata": {
        "id": "nw1-c-uCQIuA"
      },
      "source": [
        "# Life Improvement\n",
        "### Student Name : Amirhossein Shanaghi\n",
        "### Student ID : 810899056"
      ]
    },
    {
      "cell_type": "markdown",
      "metadata": {
        "id": "cUkfH_NyQIuB"
      },
      "source": [
        "____\n",
        "____"
      ]
    },
    {
      "cell_type": "markdown",
      "metadata": {
        "id": "-XrPvtiJQIuC"
      },
      "source": [
        "# Q1 : Appropriate Diet"
      ]
    },
    {
      "cell_type": "markdown",
      "metadata": {
        "id": "Kgu9Ovf9QIuC"
      },
      "source": [
        "### DATA:"
      ]
    },
    {
      "cell_type": "code",
      "execution_count": null,
      "metadata": {
        "id": "GUanCxICQIuC"
      },
      "outputs": [],
      "source": [
        "import numpy as np\n",
        "N = 10\n",
        "M = 5\n",
        "\n",
        "\n",
        "B = np.array([100.8, 52.1, 370.8, 200.5, 140 ])\n",
        "C = np.array([45.79, 30.86, 50.2 , 99.26, 32.17, 42.9 , 66.89, 35.06, 13.78, 53.78])\n",
        "P = np.array([\n",
        "    [ 70,  5.12,  8.02,  1.89, 12.25],\n",
        "    [0,  100,  7.62,  2.34, 17.48],\n",
        "    [ 6.53, 0.1,  7.89,  200,  0.56],\n",
        "    [0, 0.1,  0.896,  400, 0],\n",
        "    [18.23,  1.  , 10.29,  9.21,  0.92],\n",
        "    [ 2.45,  2.93,  2.24,  4.55,  8.87],\n",
        "    [ 9.41, 13.1 ,  7.24,  0.24,  7.35],\n",
        "    [19.21,  1.32, 12.35, 11.22,  5.14],\n",
        "    [ 1.27, 11.66,  256,  1.14,  2.42],\n",
        "    [11.37, 17.86,  33, 0,  100]\n",
        "    ])"
      ]
    },
    {
      "cell_type": "code",
      "source": [
        "import cvxpy as cp\n",
        "import numpy as np\n",
        "\n",
        "\n",
        "x = cp.Variable(N, nonneg=True)\n",
        "\n",
        "objective = cp.Minimize(C @ x)\n",
        "\n",
        "constraints = [P.T @ x >= B]\n",
        "\n",
        "problem = cp.Problem(objective, constraints)\n",
        "\n",
        "problem.solve()\n",
        "\n",
        "food_units = x.value\n",
        "total_cost = problem.value\n",
        "nutrient_totals = P.T @ food_units\n",
        "\n",
        "import pandas as pd\n",
        "results = pd.DataFrame({\n",
        "    \"Food Item\": range(1, N + 1),\n",
        "    \"Units\": food_units\n",
        "})\n",
        "nutrient_totals_df = pd.DataFrame({\n",
        "    \"Nutrient\": range(1, M + 1),\n",
        "    \"Total Amount\": nutrient_totals\n",
        "})\n",
        "print(results)\n",
        "print(f\"Total cost: {total_cost:.2f}\")\n",
        "print(\"\\nSum of all P_ij * x_i for each nutrient:\")\n",
        "print(nutrient_totals_df)\n",
        "\n"
      ],
      "metadata": {
        "id": "1LqZEXzQSVtB",
        "outputId": "ff213a90-827f-4cba-daae-30b34f094b9c",
        "colab": {
          "base_uri": "https://localhost:8080/"
        }
      },
      "execution_count": null,
      "outputs": [
        {
          "output_type": "stream",
          "name": "stdout",
          "text": [
            "   Food Item         Units\n",
            "0          1  1.129764e+00\n",
            "1          2  1.036554e-01\n",
            "2          3  9.836349e-01\n",
            "3          4  2.896800e-09\n",
            "4          5  0.000000e+00\n",
            "5          6  0.000000e+00\n",
            "6          7  0.000000e+00\n",
            "7          8  0.000000e+00\n",
            "8          9  1.223878e+00\n",
            "9         10  1.208359e+00\n",
            "Total cost: 186.16\n",
            "\n",
            "Sum of all P_ij * x_i for each nutrient:\n",
            "   Nutrient  Total Amount\n",
            "0         1    100.800000\n",
            "1         2     52.100000\n",
            "2         3    370.800001\n",
            "3         4    200.500000\n",
            "4         5    140.000000\n"
          ]
        }
      ]
    },
    {
      "cell_type": "markdown",
      "source": [
        "To solve this linear programming problem using `cvxpy`, we'll follow these steps:\n",
        "\n",
        "1. **Model the problem and define its limitations:**\n",
        "   - Objective: Minimize the total cost of food.\n",
        "   - Constraints: Ensure that the nutritional requirements for each nutrient are met.\n",
        "\n",
        "2. **Solve the problem and find the amount of each food unit:**\n",
        "\n",
        "\n",
        "The code does the following:\n",
        "\n",
        "1. **Define the parameters:**\n",
        "   - `N` is the number of food items.\n",
        "   - `M` is the number of nutrients.\n",
        "   - `B` is the minimum required amount of each nutrient.\n",
        "   - `C` is the cost per unit of each food item.\n",
        "   - `P` is the nutrient content per unit of each food item.\n",
        "\n",
        "2. **Define the optimization variable:**\n",
        "   - `x` is the vector representing the number of units of each food item, constrained to be non-negative.\n",
        "\n",
        "3. **Define the objective function:**\n",
        "   - Minimize the total cost, represented by `C @ x`.\n",
        "\n",
        "4. **Define the constraints:**\n",
        "   - Ensure that the total amount of each nutrient meets the required minimum, represented by `P.T @ x >= B`.\n",
        "\n",
        "5. **Formulate and solve the problem:**\n",
        "   - The problem is formulated using `cp.Problem` and solved with the `solve` method.\n",
        "\n",
        "6. **Display the results**\n"
      ],
      "metadata": {
        "id": "xYWlLvexWBiK"
      }
    },
    {
      "cell_type": "markdown",
      "metadata": {
        "id": "eS1UgMjSQIuD"
      },
      "source": [
        "___"
      ]
    },
    {
      "cell_type": "markdown",
      "metadata": {
        "id": "4oMUPLPAQIuE"
      },
      "source": [
        "# Q2 : Project Management"
      ]
    },
    {
      "cell_type": "markdown",
      "metadata": {
        "id": "DjaQPm1zQIuE"
      },
      "source": [
        "### DATA:"
      ]
    },
    {
      "cell_type": "code",
      "execution_count": null,
      "metadata": {
        "id": "Qkj_id-0QIuE"
      },
      "outputs": [],
      "source": [
        "N = 5\n",
        "P = 2500\n",
        "t = 800\n",
        "R = 200\n",
        "C = [2,  2.09,  4.45, 5.55,  1.52]\n",
        "T = [3.57,  2.448, 2.69, 3.03,  9.55]\n",
        "p = [100,8,35,90,20]"
      ]
    },
    {
      "cell_type": "code",
      "source": [
        "import cvxpy as cp\n",
        "import numpy as np\n",
        "\n",
        "\n",
        "N = 5\n",
        "p = 2500\n",
        "t = 800\n",
        "R = 200\n",
        "C = np.array([2,  2.09,  4.45, 5.55,  1.52])\n",
        "T = np.array([3.57,  2.448, 2.69, 3.03,  9.55])\n",
        "P = np.array([100,8,35,90,20])\n",
        "\n",
        "x = cp.Variable(N, nonneg=True)\n",
        "\n",
        "objective = cp.Minimize(C @ x)\n",
        "\n",
        "constraints = [\n",
        "    T @ x <= t,  # Time constraint\n",
        "    cp.sum(x) <= R,  # Resource constraint\n",
        "    P @ x >= p  # Profit constraint\n",
        "]\n",
        "\n",
        "problem = cp.Problem(objective, constraints)\n",
        "\n",
        "problem.solve()\n",
        "\n",
        "allocated_resources = x.value\n",
        "total_cost = problem.value\n",
        "total_time_spent = T @ allocated_resources\n",
        "\n",
        "import pandas as pd\n",
        "results = pd.DataFrame({\n",
        "    \"Activity\": range(1, N + 1),\n",
        "    \"Allocated Resources\": allocated_resources\n",
        "})\n",
        "print(f\"Total cost: {total_cost:.2f}\")\n",
        "print(f\"Total time spent: {total_time_spent:.2f}\")\n",
        "print(results)\n"
      ],
      "metadata": {
        "colab": {
          "base_uri": "https://localhost:8080/"
        },
        "id": "f9yB6zSJcUg_",
        "outputId": "05b12e77-f481-40bb-f6e0-a1a2cdbb0549"
      },
      "execution_count": 47,
      "outputs": [
        {
          "output_type": "stream",
          "name": "stdout",
          "text": [
            "Total cost: 50.00\n",
            "Total time spent: 89.25\n",
            "   Activity  Allocated Resources\n",
            "0         1         2.500000e+01\n",
            "1         2         2.283678e-09\n",
            "2         3         1.084948e-09\n",
            "3         4         9.315246e-10\n",
            "4         5         1.127208e-09\n"
          ]
        }
      ]
    },
    {
      "cell_type": "markdown",
      "source": [
        "\n",
        "\n",
        "\n",
        "In the above code:\n",
        "\n",
        "1. **Define the parameters:**\n",
        "   - `N`: Number of activities.\n",
        "   - `t`: Total available time.\n",
        "   - `R`: Total available resources.\n",
        "   - `p`: Minimum required profit.\n",
        "   - `C`: Cost per unit of resource for each activity.\n",
        "   - `T`: Time required per unit of resource for each activity.\n",
        "   - `P`: Profit per unit of resource for each activity.\n",
        "\n",
        "2. **Define the optimization variable:**\n",
        "   - `x`: Number of resources allocated to each activity, constrained to be non-negative.\n",
        "\n",
        "3. **Define the objective function:**\n",
        "   - Minimize the total cost, represented by `C @ x`.\n",
        "\n",
        "4. **Define the constraints:**\n",
        "   - Ensure that the total time does not exceed the available time (`T @ x <= t`).\n",
        "   - Ensure that the total resources used do not exceed the available resources (`cp.sum(x) <= R`).\n",
        "   - Ensure that the total profit meets the required minimum (`P @ x >= p`).\n",
        "\n",
        "5. **Formulate and solve the problem:**\n",
        "   - The problem is formulated using `cp.Problem` and solved with the `solve` method.\n",
        "\n",
        "6. **Display the results:**\n",
        "   - The results show the number of resources allocated to each activity, the total cost, and the total time spent.\n",
        "\n"
      ],
      "metadata": {
        "id": "PRalqYBPhR9V"
      }
    },
    {
      "cell_type": "code",
      "source": [
        "import cvxpy as cp\n",
        "import numpy as np\n",
        "\n",
        "\n",
        "N = 5\n",
        "p = 2500\n",
        "t = 800\n",
        "R = 200\n",
        "C = np.array([2,  2.09,  4.45, 5.55,  1.52])\n",
        "T = np.array([3.57,  2.448, 2.69, 3.03,  9.55])\n",
        "P = np.array([100,8,35,90,20])\n",
        "\n",
        "x = cp.Variable(N, nonneg=True)\n",
        "\n",
        "objective = cp.Minimize(C @ x)\n",
        "\n",
        "constraints = [\n",
        "    T @ x <= t,  # Time constraint\n",
        "    cp.sum(x) <= R,  # Resource constraint\n",
        "    P @ x >= p , # Profit constraint\n",
        "    T[0] * x[0] >= 2 * T[1] * x[1],  # Prioritization constraint: spend more than twice as much time on activity 1 as on activity 2\n",
        "    10 <= T[2] * x[2],  # Interval constraint lower bound for activity 3\n",
        "    T[2] * x[2] <= 20  # Interval constraint upper bound for activity 3\n",
        "]\n",
        "\n",
        "problem = cp.Problem(objective, constraints)\n",
        "\n",
        "problem.solve()\n",
        "\n",
        "allocated_resources = x.value\n",
        "total_cost = problem.value\n",
        "total_time_spent = T @ allocated_resources\n",
        "\n",
        "import pandas as pd\n",
        "results = pd.DataFrame({\n",
        "    \"Activity\": range(1, N + 1),\n",
        "    \"Allocated Resources\": allocated_resources\n",
        "})\n",
        "\n",
        "print(f\"Total cost: {total_cost:.2f}\")\n",
        "print(f\"Total time spent: {total_time_spent:.2f}\")\n",
        "print(results)"
      ],
      "metadata": {
        "colab": {
          "base_uri": "https://localhost:8080/"
        },
        "id": "8YnvvwL1h6lM",
        "outputId": "49eee2e6-1361-4001-b36d-8006b9a037e6"
      },
      "execution_count": 48,
      "outputs": [
        {
          "output_type": "stream",
          "name": "stdout",
          "text": [
            "Total cost: 63.94\n",
            "Total time spent: 94.61\n",
            "   Activity  Allocated Resources\n",
            "0         1         2.369888e+01\n",
            "1         2         0.000000e+00\n",
            "2         3         3.717472e+00\n",
            "3         4         7.899464e-10\n",
            "4         5         0.000000e+00\n"
          ]
        }
      ]
    },
    {
      "cell_type": "markdown",
      "source": [
        "To address the additional constraints involving prioritization and specific intervals for each activity, we can incorporate these constraints into our existing model. Here are some examples of such constraints:\n",
        "\n",
        "\n",
        "- **Additional Constraints:**\n",
        "  - `T[0] * x[0] >= 2 * T[1] * x[1]`: Prioritization constraint ensuring time spent on activity 1 is more than twice that on activity 2.\n",
        "  - `10 <= T[2] * x[2]`: Lower bound interval constraint for activity 3.\n",
        "  - `T[2] * x[2] <= 20`: Upper bound interval constraint for activity 3.\n",
        "\n"
      ],
      "metadata": {
        "id": "UyoVhhFQiQQh"
      }
    },
    {
      "cell_type": "markdown",
      "metadata": {
        "id": "39OVD1HjQIuE"
      },
      "source": [
        "____"
      ]
    },
    {
      "cell_type": "markdown",
      "metadata": {
        "id": "nDyy3pUhQIuF"
      },
      "source": [
        "# Q3 : Portfolio Selection"
      ]
    },
    {
      "cell_type": "markdown",
      "metadata": {
        "id": "YlXIOeKQQIuF"
      },
      "source": [
        "### DATA:"
      ]
    },
    {
      "cell_type": "code",
      "execution_count": 6,
      "metadata": {
        "id": "oZp9IcCWQIuF"
      },
      "outputs": [],
      "source": [
        "import numpy as np\n",
        "mu = np.array([19.12, 13.31, 18.4 , 19.56, 18.7 , 14.04, 15.21, 17.74, 19.88, 19.39])\n",
        "\n",
        "Sigma = np.array([\n",
        "    [3.44, 2.76, 2.28, 2.35, 2.83, 1.98, 2.22, 2.65, 3.37, 2.49],\n",
        "    [2.76, 3.68, 2.74, 2.26, 3.06, 1.73, 2.38, 2.16, 2.79, 2.13],\n",
        "    [2.28, 2.74, 2.62, 1.66, 2.72, 1.43, 2.28, 2.04, 2.35, 1.8 ],\n",
        "    [2.35, 2.26, 1.66, 2.88, 1.88, 2.14, 2.23, 2.12, 2.59, 2.71],\n",
        "    [2.83, 3.06, 2.72, 1.88, 3.51, 1.69, 2.34, 2.48, 3.06, 2.13],\n",
        "    [1.98, 1.73, 1.43, 2.14, 1.69, 2.82, 1.64, 2.57, 2.81, 2.26],\n",
        "    [2.22, 2.38, 2.28, 2.23, 2.34, 1.64, 2.82, 1.92, 2.33, 2.57],\n",
        "    [2.65, 2.16, 2.04, 2.12, 2.48, 2.57, 1.92, 3.06, 3.19, 2.24],\n",
        "    [3.37, 2.79, 2.35, 2.59, 3.06, 2.81, 2.33, 3.19, 3.9 , 2.8 ],\n",
        "    [2.49, 2.13, 1.8 , 2.71, 2.13, 2.26, 2.57, 2.24, 2.8 , 3.26]\n",
        "       ])"
      ]
    },
    {
      "cell_type": "markdown",
      "source": [],
      "metadata": {
        "id": "8Gb-Dn9RrmZE"
      }
    },
    {
      "cell_type": "code",
      "source": [
        "import cvxpy as cp\n",
        "import numpy as np\n",
        "import pandas as pd\n",
        "\n",
        "n = len(mu)\n",
        "x = cp.Variable(n)\n",
        "lambdas = [0.01, 1, 10, 50, 100, 1000]\n",
        "results = []\n",
        "\n",
        "for lam in lambdas:\n",
        "    objective = cp.Maximize(mu @ x - lam * cp.quad_form(x, Sigma))\n",
        "\n",
        "    constraints = [\n",
        "        cp.sum(x) == 1,\n",
        "        x >= 0,\n",
        "        x <= 1\n",
        "    ]\n",
        "\n",
        "    problem = cp.Problem(objective, constraints)\n",
        "\n",
        "    problem.solve()\n",
        "\n",
        "    allocated_assets = x.value\n",
        "    total_return = mu @ allocated_assets\n",
        "    total_risk = np.sqrt(cp.quad_form(allocated_assets, Sigma).value)\n",
        "\n",
        "    result = {\n",
        "        \"Lambda\": lam,\n",
        "        \"Total Return\": total_return,\n",
        "        \"Total Risk\": total_risk\n",
        "    }\n",
        "    for i in range(n):\n",
        "        result[f\"Asset {i+1}\"] = allocated_assets[i].round(4)\n",
        "    results.append(result)\n",
        "\n",
        "results_df = pd.DataFrame(results)\n",
        "results_df_formatted = results_df.copy()\n",
        "results_df_formatted[\"Total Return\"] = results_df[\"Total Return\"].round(4)\n",
        "results_df_formatted[\"Total Risk\"] = results_df[\"Total Risk\"].round(4)\n",
        "pd.set_option('display.max_columns', None)\n",
        "\n",
        "print(results_df_formatted)\n"
      ],
      "metadata": {
        "colab": {
          "base_uri": "https://localhost:8080/"
        },
        "id": "bLqfagCumc02",
        "outputId": "797fb704-6b30-498d-c3b4-6121223a0a07"
      },
      "execution_count": 49,
      "outputs": [
        {
          "output_type": "stream",
          "name": "stdout",
          "text": [
            "    Lambda  Total Return  Total Risk  Asset 1  Asset 2  Asset 3  Asset 4  \\\n",
            "0     0.01       19.8800      1.9748      0.0      0.0  -0.0000  -0.0000   \n",
            "1     1.00       19.3372      1.5642     -0.0     -0.0   0.2307   0.6294   \n",
            "2    10.00       18.1663      1.4467      0.0      0.0   0.4985   0.3538   \n",
            "3    50.00       17.2944      1.4285     -0.0      0.0   0.4820   0.2089   \n",
            "4   100.00       17.1854      1.4279      0.0      0.0   0.4799   0.1907   \n",
            "5  1000.00       17.0873      1.4277      0.0     -0.0   0.4781   0.1744   \n",
            "\n",
            "   Asset 5  Asset 6  Asset 7  Asset 8  Asset 9  Asset 10  \n",
            "0     -0.0   0.0000      0.0     -0.0     1.00      -0.0  \n",
            "1     -0.0   0.0000     -0.0      0.0     0.14      -0.0  \n",
            "2     -0.0   0.1477     -0.0     -0.0    -0.00       0.0  \n",
            "3      0.0   0.3091      0.0     -0.0    -0.00       0.0  \n",
            "4     -0.0   0.3293      0.0     -0.0     0.00      -0.0  \n",
            "5      0.0   0.3475      0.0     -0.0     0.00      -0.0  \n"
          ]
        }
      ]
    },
    {
      "cell_type": "code",
      "source": [
        "import cvxpy as cp\n",
        "import numpy as np\n",
        "import pandas as pd\n",
        "\n",
        "\n",
        "\n",
        "n = len(mu)\n",
        "\n",
        "x = cp.Variable(n)\n",
        "\n",
        "lambdas = [ 0.01, 1, 10, 50, 100, 1000]\n",
        "\n",
        "results = []\n",
        "\n",
        "for lam in lambdas:\n",
        "    objective = cp.Maximize(mu @ x - lam * cp.quad_form(x, Sigma))\n",
        "\n",
        "    constraints = [\n",
        "        cp.sum(x) == 1,\n",
        "        x >= 0,\n",
        "        x <= 1,\n",
        "        x[0] <= 0.1,  # Example constraint: First share must be less than 0.1\n",
        "        x[1] >= 0.05,  # Example constraint: Second share must be more than 0.05\n",
        "        cp.sum(x[2:5]) >= 0.2,  # Example constraint: Sum of shares 3 to 5 must be at least 0.2\n",
        "        cp.sum(x[2:5]) <= 0.5  # Example constraint: Sum of shares 3 to 5 must be at most 0.5\n",
        "    ]\n",
        "\n",
        "    problem = cp.Problem(objective, constraints)\n",
        "\n",
        "    problem.solve()\n",
        "\n",
        "    allocated_assets = x.value\n",
        "    total_return = mu @ allocated_assets\n",
        "    total_risk = np.sqrt(cp.quad_form(allocated_assets, Sigma).value)\n",
        "\n",
        "    result = {\n",
        "        \"Lambda\": lam,\n",
        "        \"Total Return\": total_return,\n",
        "        \"Total Risk\": total_risk\n",
        "    }\n",
        "    for i in range(n):\n",
        "        result[f\"Asset {i+1}\"] = allocated_assets[i].round(4)\n",
        "    results.append(result)\n",
        "\n",
        "results_df = pd.DataFrame(results)\n",
        "\n",
        "pd.set_option('display.max_columns', None)\n",
        "\n",
        "print(results_df)\n"
      ],
      "metadata": {
        "colab": {
          "base_uri": "https://localhost:8080/"
        },
        "id": "Ez4tqboAmz6j",
        "outputId": "9b3524b5-894b-4129-bcce-1c1345044ec6"
      },
      "execution_count": 51,
      "outputs": [
        {
          "output_type": "stream",
          "name": "stdout",
          "text": [
            "    Lambda  Total Return  Total Risk  Asset 1  Asset 2  Asset 3  Asset 4  \\\n",
            "0     0.01     19.487500    1.830191   0.0000     0.05  -0.0000   0.2000   \n",
            "1     1.00     19.169526    1.626620   0.0000     0.05   0.1109   0.3891   \n",
            "2    10.00     17.322214    1.457727   0.0099     0.05   0.4026   0.0974   \n",
            "3    50.00     16.403249    1.438436  -0.0000     0.05   0.3845   0.1155   \n",
            "4   100.00     16.394247    1.438389  -0.0000     0.05   0.3885   0.1115   \n",
            "5  1000.00     16.386146    1.438374   0.0000     0.05   0.3920   0.1080   \n",
            "\n",
            "   Asset 5  Asset 6  Asset 7  Asset 8  Asset 9  Asset 10  \n",
            "0     -0.0   0.0000   0.0000     -0.0   0.7500   -0.0000  \n",
            "1      0.0  -0.0000  -0.0000     -0.0   0.2594    0.1906  \n",
            "2      0.0   0.2578  -0.0000      0.0   0.0000    0.1823  \n",
            "3     -0.0   0.3767   0.0733     -0.0   0.0000    0.0000  \n",
            "4      0.0   0.3805   0.0695      0.0  -0.0000   -0.0000  \n",
            "5      0.0   0.3838   0.0662      0.0  -0.0000    0.0000  \n"
          ]
        }
      ]
    },
    {
      "cell_type": "code",
      "source": [],
      "metadata": {
        "id": "DNBWXq-7suvt"
      },
      "execution_count": null,
      "outputs": []
    }
  ],
  "metadata": {
    "kernelspec": {
      "display_name": "Python 3",
      "language": "python",
      "name": "python3"
    },
    "language_info": {
      "codemirror_mode": {
        "name": "ipython",
        "version": 3
      },
      "file_extension": ".py",
      "mimetype": "text/x-python",
      "name": "python",
      "nbconvert_exporter": "python",
      "pygments_lexer": "ipython3",
      "version": "3.9.6"
    },
    "colab": {
      "provenance": []
    }
  },
  "nbformat": 4,
  "nbformat_minor": 0
}